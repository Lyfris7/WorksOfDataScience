{
 "cells": [
  {
   "cell_type": "markdown",
   "id": "e5349994-f212-4df6-819c-91d564f7896a",
   "metadata": {},
   "source": [
    "# Data Science Tools and Ecosystem"
   ]
  },
  {
   "cell_type": "markdown",
   "id": "0be2ae3a-a0f0-4276-b939-736ded2c4f3c",
   "metadata": {},
   "source": [
    "In this notebook, Data Science Tools and Ecosystem are summarized."
   ]
  },
  {
   "cell_type": "markdown",
   "id": "612f4c0c-5dbf-4d16-8f3f-cbc07bf86a4a",
   "metadata": {},
   "source": [
    "__Objectives:__\n",
    "- Some of the popular languages used by Data Scientists\n",
    "- Some of the commonly used libraries used by Data Scientists\n",
    "- Some of the Data Science Tools used by Data Scientists\n",
    "- Examples of evaluating arithmetic expressions in Pyhton"
   ]
  },
  {
   "cell_type": "markdown",
   "id": "5abbf076-1370-4a50-8a67-740f8d02d01a",
   "metadata": {},
   "source": [
    "Some of the popular languages that Data Scientists use are:\n",
    "1. Phyton\n",
    "2. C++\n",
    "3. Java\n",
    "4. Julia"
   ]
  },
  {
   "cell_type": "markdown",
   "id": "9535b30c-4aef-4727-82fb-60f05a6aa804",
   "metadata": {},
   "source": [
    "Some of the commonly used libraries used by Data Scientists include:\n",
    "1. Pandas\n",
    "2. TensorFlow\n",
    "3. Plotly"
   ]
  },
  {
   "cell_type": "markdown",
   "id": "f3270a42-c1f0-444b-a9e3-436c01df97c8",
   "metadata": {},
   "source": [
    "| Data Science Tools |\n",
    "| ------------------ |\n",
    "| Phyton |\n",
    "| SQL |\n",
    "| R Studio |"
   ]
  },
  {
   "cell_type": "markdown",
   "id": "b103d3f1-518c-42d5-a41f-cd81d642a797",
   "metadata": {},
   "source": [
    "### Below are a few examples of evaluating arithmetic expressions in Python"
   ]
  },
  {
   "cell_type": "code",
   "execution_count": 4,
   "id": "d90cb91d-e506-4e5d-8bcc-28b1d6a3a9fd",
   "metadata": {},
   "outputs": [
    {
     "data": {
      "text/plain": [
       "17"
      ]
     },
     "execution_count": 4,
     "metadata": {},
     "output_type": "execute_result"
    }
   ],
   "source": [
    "(3*4)+5\n",
    "# This a simple arithmetic expression to mutiply then add integers"
   ]
  },
  {
   "cell_type": "code",
   "execution_count": 13,
   "id": "e31bfa7c-c464-432c-be5a-45f272975374",
   "metadata": {},
   "outputs": [
    {
     "data": {
      "text/plain": [
       "3.3333333333333335"
      ]
     },
     "execution_count": 13,
     "metadata": {},
     "output_type": "execute_result"
    }
   ],
   "source": [
    "200 / 60 \n",
    "# This will convert 200 minutes to hours by diving by 60"
   ]
  },
  {
   "cell_type": "markdown",
   "id": "c6bba7b3-c205-4502-83db-b1fd2a3573c0",
   "metadata": {},
   "source": [
    "## Author\n",
    "Tayyip Yılmaz"
   ]
  }
 ],
 "metadata": {
  "kernelspec": {
   "display_name": "Python 3 (ipykernel)",
   "language": "python",
   "name": "python3"
  },
  "language_info": {
   "codemirror_mode": {
    "name": "ipython",
    "version": 3
   },
   "file_extension": ".py",
   "mimetype": "text/x-python",
   "name": "python",
   "nbconvert_exporter": "python",
   "pygments_lexer": "ipython3",
   "version": "3.11.7"
  }
 },
 "nbformat": 4,
 "nbformat_minor": 5
}
